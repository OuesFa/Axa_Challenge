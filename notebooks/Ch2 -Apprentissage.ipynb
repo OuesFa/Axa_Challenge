{
 "cells": [
  {
   "cell_type": "markdown",
   "metadata": {},
   "source": [
    "<h1> <a> Apprentissage </a> </h1>\n",
    "<h2> Pour le Challenge Axa </h2>\n",
    "<h3> Axa Graduate Program Février 2017 </h3>\n",
    "<i> Author : Paul Tran </i> <br>\n"
   ]
  },
  {
   "cell_type": "markdown",
   "metadata": {},
   "source": [
    "--------------"
   ]
  },
  {
   "cell_type": "markdown",
   "metadata": {},
   "source": [
    "# Sommaire\n",
    "1. [Préliminaires](#préliminaires)\n",
    "    1. [Introduction](#introduction)\n",
    "    2. [Imports](#imports)\n",
    "    3. [Chargement de la donnée](#load)\n",
    "2. [Data Management](#management)\n",
    "    1. [Train, Validation & Test](#split)\n",
    "    2. [Description de la donnée](#description)\n",
    "3. [Machine Learning](#ML)\n",
    "    1. [Méthode Linéaire](#linéaire)\n",
    "    2. [Méthodes ensemblistes](#ensemblistes)\n",
    "        1. [Random Forest](#RF)\n",
    "        2. [Extra Trees](#ET)\n",
    "        3. [XG Boost](#XGB)\n",
    "4. [Interprétation des modèles](#interprétation)\n",
    "5. [Soumission des résultats](#submit)"
   ]
  },
  {
   "cell_type": "markdown",
   "metadata": {},
   "source": [
    "------------"
   ]
  },
  {
   "cell_type": "markdown",
   "metadata": {},
   "source": [
    "# Préliminaires  <a name=\"préiliminaires\"></a>"
   ]
  },
  {
   "cell_type": "markdown",
   "metadata": {},
   "source": [
    "- ## Introduction :  <a name=\"introduction\"></a>"
   ]
  },
  {
   "cell_type": "markdown",
   "metadata": {},
   "source": [
    "Dans cette partie nous allons gérer l'approche naïve de l'apprentissage avec très peu de modifications sur la donnée. Nous tenterons par la suite d'effectuer un travail plus réfléchi sur la donnée dans l'optique d'obtenir un meilleur score."
   ]
  },
  {
   "cell_type": "markdown",
   "metadata": {},
   "source": [
    "- ## Précautions"
   ]
  },
  {
   "cell_type": "markdown",
   "metadata": {},
   "source": [
    "Ce notebook prend beaucoup de temps à être exécuté dans son intégralité du fait des apprentissages successifs qui sont lancés. Il est conseiller de ne pas l'exécuter et d'observer directement les résultats des cellules."
   ]
  },
  {
   "cell_type": "markdown",
   "metadata": {},
   "source": [
    "- ## Imports des librairies utiles <a name=\"imports\"></a>"
   ]
  },
  {
   "cell_type": "code",
   "execution_count": 1,
   "metadata": {
    "collapsed": false
   },
   "outputs": [
    {
     "name": "stderr",
     "output_type": "stream",
     "text": [
      "/home/duc-vinh/anaconda2/lib/python2.7/site-packages/pandas/computation/__init__.py:19: UserWarning: The installed version of numexpr 2.4.4 is not supported in pandas and will be not be used\n",
      "\n",
      "  UserWarning)\n",
      "/home/duc-vinh/anaconda2/lib/python2.7/site-packages/matplotlib/__init__.py:872: UserWarning: axes.color_cycle is deprecated and replaced with axes.prop_cycle; please use the latter.\n",
      "  warnings.warn(self.msg_depr % (key, alt_key))\n"
     ]
    }
   ],
   "source": [
    "import os\n",
    "import math\n",
    "import pandas as pd\n",
    "pd.set_option('display.max_columns', 300)\n",
    "import numpy as np\n",
    "\n",
    "\n",
    "#pour la partie data viz\n",
    "%matplotlib inline\n",
    "import matplotlib.pyplot as plt\n",
    "import seaborn as sns\n",
    "#import bokeh\n",
    "#from bokeh.io import output_notebook\n",
    "#output_notebook()\n",
    "\n",
    "from sklearn.ensemble import RandomForestRegressor\n",
    "from sklearn.linear_model import LinearRegression\n",
    "from sklearn import preprocessing"
   ]
  },
  {
   "cell_type": "markdown",
   "metadata": {},
   "source": [
    "- ## Chargement de la donnée  <a name=\"load\"></a>"
   ]
  },
  {
   "cell_type": "markdown",
   "metadata": {},
   "source": [
    "***Note : nous chargeons les données qui ont été traitées préalablement depuis le Notebook Ch1, cela évite de devoir réécrire tout le code du premier Notebook dans celui-ci.***"
   ]
  },
  {
   "cell_type": "code",
   "execution_count": 2,
   "metadata": {
    "collapsed": false
   },
   "outputs": [],
   "source": [
    "#Récupération de la variable data depuis le Notebook stocké précédemment.\n",
    "%store -r data\n"
   ]
  },
  {
   "cell_type": "code",
   "execution_count": 3,
   "metadata": {
    "collapsed": false
   },
   "outputs": [
    {
     "data": {
      "text/html": [
       "<div>\n",
       "<table border=\"1\" class=\"dataframe\">\n",
       "  <thead>\n",
       "    <tr style=\"text-align: right;\">\n",
       "      <th></th>\n",
       "      <th>Age</th>\n",
       "      <th>Benefice net annuel</th>\n",
       "      <th>Coefficient bonus malus</th>\n",
       "      <th>Cout entretien annuel</th>\n",
       "      <th>Kilometres parcourus par mois</th>\n",
       "      <th>Niveau de vie</th>\n",
       "      <th>Prime mensuelle</th>\n",
       "      <th>Salaire annuel</th>\n",
       "      <th>Score CRM</th>\n",
       "      <th>Score credit</th>\n",
       "      <th>Categorie socio professionnelle_Etudiant</th>\n",
       "      <th>Categorie socio professionnelle_Ouvrier</th>\n",
       "      <th>Categorie socio professionnelle_Sans emploi</th>\n",
       "      <th>Categorie socio professionnelle_Travailleur non salarie</th>\n",
       "      <th>Marque_Opel</th>\n",
       "      <th>Marque_Peugeot</th>\n",
       "      <th>Marque_Renault</th>\n",
       "      <th>Marque_Toyota</th>\n",
       "      <th>Marque_Volkswagen</th>\n",
       "      <th>Type de vehicule_5 portes</th>\n",
       "      <th>Type de vehicule_SUV</th>\n",
       "      <th>Type de vehicule_Utilitaire</th>\n",
       "    </tr>\n",
       "    <tr>\n",
       "      <th>index</th>\n",
       "      <th></th>\n",
       "      <th></th>\n",
       "      <th></th>\n",
       "      <th></th>\n",
       "      <th></th>\n",
       "      <th></th>\n",
       "      <th></th>\n",
       "      <th></th>\n",
       "      <th></th>\n",
       "      <th></th>\n",
       "      <th></th>\n",
       "      <th></th>\n",
       "      <th></th>\n",
       "      <th></th>\n",
       "      <th></th>\n",
       "      <th></th>\n",
       "      <th></th>\n",
       "      <th></th>\n",
       "      <th></th>\n",
       "      <th></th>\n",
       "      <th></th>\n",
       "      <th></th>\n",
       "    </tr>\n",
       "  </thead>\n",
       "  <tbody>\n",
       "    <tr>\n",
       "      <th>0</th>\n",
       "      <td>58.0</td>\n",
       "      <td>54.998558</td>\n",
       "      <td>106</td>\n",
       "      <td>801</td>\n",
       "      <td>973</td>\n",
       "      <td>3762</td>\n",
       "      <td>40.0</td>\n",
       "      <td>20420</td>\n",
       "      <td>164</td>\n",
       "      <td>309</td>\n",
       "      <td>1</td>\n",
       "      <td>0</td>\n",
       "      <td>0</td>\n",
       "      <td>0</td>\n",
       "      <td>0</td>\n",
       "      <td>1</td>\n",
       "      <td>0</td>\n",
       "      <td>0</td>\n",
       "      <td>0</td>\n",
       "      <td>0</td>\n",
       "      <td>1</td>\n",
       "      <td>0</td>\n",
       "    </tr>\n",
       "    <tr>\n",
       "      <th>1</th>\n",
       "      <td>26.0</td>\n",
       "      <td>7.840930</td>\n",
       "      <td>95</td>\n",
       "      <td>667</td>\n",
       "      <td>637</td>\n",
       "      <td>3445</td>\n",
       "      <td>27.0</td>\n",
       "      <td>25750</td>\n",
       "      <td>126</td>\n",
       "      <td>135</td>\n",
       "      <td>0</td>\n",
       "      <td>1</td>\n",
       "      <td>0</td>\n",
       "      <td>0</td>\n",
       "      <td>0</td>\n",
       "      <td>0</td>\n",
       "      <td>1</td>\n",
       "      <td>0</td>\n",
       "      <td>0</td>\n",
       "      <td>1</td>\n",
       "      <td>0</td>\n",
       "      <td>0</td>\n",
       "    </tr>\n",
       "    <tr>\n",
       "      <th>2</th>\n",
       "      <td>27.0</td>\n",
       "      <td>46.078889</td>\n",
       "      <td>136</td>\n",
       "      <td>696</td>\n",
       "      <td>978</td>\n",
       "      <td>986</td>\n",
       "      <td>26.0</td>\n",
       "      <td>6790</td>\n",
       "      <td>153</td>\n",
       "      <td>786</td>\n",
       "      <td>0</td>\n",
       "      <td>0</td>\n",
       "      <td>0</td>\n",
       "      <td>0</td>\n",
       "      <td>0</td>\n",
       "      <td>0</td>\n",
       "      <td>1</td>\n",
       "      <td>0</td>\n",
       "      <td>0</td>\n",
       "      <td>0</td>\n",
       "      <td>1</td>\n",
       "      <td>0</td>\n",
       "    </tr>\n",
       "    <tr>\n",
       "      <th>3</th>\n",
       "      <td>22.0</td>\n",
       "      <td>-11.048213</td>\n",
       "      <td>96</td>\n",
       "      <td>765</td>\n",
       "      <td>771</td>\n",
       "      <td>2366</td>\n",
       "      <td>8.0</td>\n",
       "      <td>15140</td>\n",
       "      <td>111</td>\n",
       "      <td>320</td>\n",
       "      <td>1</td>\n",
       "      <td>0</td>\n",
       "      <td>0</td>\n",
       "      <td>0</td>\n",
       "      <td>0</td>\n",
       "      <td>1</td>\n",
       "      <td>0</td>\n",
       "      <td>0</td>\n",
       "      <td>0</td>\n",
       "      <td>0</td>\n",
       "      <td>0</td>\n",
       "      <td>0</td>\n",
       "    </tr>\n",
       "    <tr>\n",
       "      <th>4</th>\n",
       "      <td>60.0</td>\n",
       "      <td>1.180078</td>\n",
       "      <td>101</td>\n",
       "      <td>808</td>\n",
       "      <td>758</td>\n",
       "      <td>1441</td>\n",
       "      <td>20.0</td>\n",
       "      <td>12850</td>\n",
       "      <td>149</td>\n",
       "      <td>287</td>\n",
       "      <td>0</td>\n",
       "      <td>0</td>\n",
       "      <td>1</td>\n",
       "      <td>0</td>\n",
       "      <td>0</td>\n",
       "      <td>1</td>\n",
       "      <td>0</td>\n",
       "      <td>0</td>\n",
       "      <td>0</td>\n",
       "      <td>0</td>\n",
       "      <td>0</td>\n",
       "      <td>0</td>\n",
       "    </tr>\n",
       "  </tbody>\n",
       "</table>\n",
       "</div>"
      ],
      "text/plain": [
       "        Age  Benefice net annuel  Coefficient bonus malus  \\\n",
       "index                                                       \n",
       "0      58.0            54.998558                      106   \n",
       "1      26.0             7.840930                       95   \n",
       "2      27.0            46.078889                      136   \n",
       "3      22.0           -11.048213                       96   \n",
       "4      60.0             1.180078                      101   \n",
       "\n",
       "       Cout entretien annuel  Kilometres parcourus par mois  Niveau de vie  \\\n",
       "index                                                                        \n",
       "0                        801                            973           3762   \n",
       "1                        667                            637           3445   \n",
       "2                        696                            978            986   \n",
       "3                        765                            771           2366   \n",
       "4                        808                            758           1441   \n",
       "\n",
       "       Prime mensuelle  Salaire annuel  Score CRM  Score credit  \\\n",
       "index                                                             \n",
       "0                 40.0           20420        164           309   \n",
       "1                 27.0           25750        126           135   \n",
       "2                 26.0            6790        153           786   \n",
       "3                  8.0           15140        111           320   \n",
       "4                 20.0           12850        149           287   \n",
       "\n",
       "       Categorie socio professionnelle_Etudiant  \\\n",
       "index                                             \n",
       "0                                             1   \n",
       "1                                             0   \n",
       "2                                             0   \n",
       "3                                             1   \n",
       "4                                             0   \n",
       "\n",
       "       Categorie socio professionnelle_Ouvrier  \\\n",
       "index                                            \n",
       "0                                            0   \n",
       "1                                            1   \n",
       "2                                            0   \n",
       "3                                            0   \n",
       "4                                            0   \n",
       "\n",
       "       Categorie socio professionnelle_Sans emploi  \\\n",
       "index                                                \n",
       "0                                                0   \n",
       "1                                                0   \n",
       "2                                                0   \n",
       "3                                                0   \n",
       "4                                                1   \n",
       "\n",
       "       Categorie socio professionnelle_Travailleur non salarie  Marque_Opel  \\\n",
       "index                                                                         \n",
       "0                                                      0                  0   \n",
       "1                                                      0                  0   \n",
       "2                                                      0                  0   \n",
       "3                                                      0                  0   \n",
       "4                                                      0                  0   \n",
       "\n",
       "       Marque_Peugeot  Marque_Renault  Marque_Toyota  Marque_Volkswagen  \\\n",
       "index                                                                     \n",
       "0                   1               0              0                  0   \n",
       "1                   0               1              0                  0   \n",
       "2                   0               1              0                  0   \n",
       "3                   1               0              0                  0   \n",
       "4                   1               0              0                  0   \n",
       "\n",
       "       Type de vehicule_5 portes  Type de vehicule_SUV  \\\n",
       "index                                                    \n",
       "0                              0                     1   \n",
       "1                              1                     0   \n",
       "2                              0                     1   \n",
       "3                              0                     0   \n",
       "4                              0                     0   \n",
       "\n",
       "       Type de vehicule_Utilitaire  \n",
       "index                               \n",
       "0                                0  \n",
       "1                                0  \n",
       "2                                0  \n",
       "3                                0  \n",
       "4                                0  "
      ]
     },
     "execution_count": 3,
     "metadata": {},
     "output_type": "execute_result"
    }
   ],
   "source": [
    "#Nous n'observons que le début de la table pour s'assurer qu'elle s'est bien chargée.\n",
    "data.head()"
   ]
  },
  {
   "cell_type": "markdown",
   "metadata": {},
   "source": [
    "# I. Data management  <a name=\"management\"></a>"
   ]
  },
  {
   "cell_type": "markdown",
   "metadata": {},
   "source": [
    "- ## Train, Validation & Test set  <a name=\"split\"></a>"
   ]
  },
  {
   "cell_type": "markdown",
   "metadata": {},
   "source": [
    "***La donnée étant déjà traité de façon la plus simple depuis le premier Notebook, nous nous contentons pour notre première approche \"naïve\" de simplement séparer notre base de train afin de pouvoir évaluer le modèle d'apprentissage.***\n",
    "\n",
    "***Nous la considérons \"naïve\", dans la mesure où nous nous sommes seulement contentés de remplacer les NaN par la moyenne des valeurs existantes (pour les variables quantitatives). Le traitement des données est indispensable afin que le modèle d'apprentissage accepte le format des données en entrée.***"
   ]
  },
  {
   "cell_type": "code",
   "execution_count": 4,
   "metadata": {
    "collapsed": false
   },
   "outputs": [],
   "source": [
    "def simple_split(X):\n",
    "    to_drop=['Benefice net annuel'] #on enlève la cible\n",
    "    T=X[1000:]\n",
    "    X=X[0:1000]  \n",
    "    return X.drop(to_drop,axis=1),X['Benefice net annuel'],T.drop(to_drop,axis=1)\n"
   ]
  },
  {
   "cell_type": "markdown",
   "metadata": {},
   "source": [
    "- ## Data split"
   ]
  },
  {
   "cell_type": "code",
   "execution_count": 5,
   "metadata": {
    "collapsed": false
   },
   "outputs": [
    {
     "name": "stdout",
     "output_type": "stream",
     "text": [
      "CPU times: user 0 ns, sys: 0 ns, total: 0 ns\n",
      "Wall time: 2.06 ms\n"
     ]
    }
   ],
   "source": [
    "%%time\n",
    "X,y,T=simple_split(data.copy())"
   ]
  },
  {
   "cell_type": "markdown",
   "metadata": {
    "collapsed": true
   },
   "source": [
    "# II. Machine learning  <a name=\"ML\"></a>"
   ]
  },
  {
   "cell_type": "markdown",
   "metadata": {},
   "source": [
    "Here comes the juicy part!"
   ]
  },
  {
   "cell_type": "markdown",
   "metadata": {},
   "source": [
    "***Avant d'entrer dans le coeur du machine learning, il est nécessaire de définir une métrique d'évaluation.***"
   ]
  },
  {
   "cell_type": "code",
   "execution_count": 6,
   "metadata": {
    "collapsed": true
   },
   "outputs": [],
   "source": [
    "from sklearn.metrics import mean_squared_error\n",
    "from math import sqrt\n",
    "\n",
    "# RMSE :root-mean-square error\n",
    "def RMSE(y_true, y_pred): \n",
    "    return sqrt(mean_squared_error(y_true, y_pred))\n",
    "\n",
    "\n",
    "# Mean Absolute Percentage Error\n",
    "def mape_error(y_true, y_pred): \n",
    "    return np.mean(np.abs((y_true - y_pred) / y_true)) * 100"
   ]
  },
  {
   "cell_type": "markdown",
   "metadata": {},
   "source": [
    "***Nous allons scinder la base de train afin de pouvoir évaluer le modèle, par l'intermédiaire de la méthode de validation croisée.***"
   ]
  },
  {
   "cell_type": "code",
   "execution_count": 7,
   "metadata": {
    "collapsed": true
   },
   "outputs": [],
   "source": [
    "random_state = 42 #set seed pour l'ensemble"
   ]
  },
  {
   "cell_type": "code",
   "execution_count": 8,
   "metadata": {
    "collapsed": false
   },
   "outputs": [
    {
     "name": "stderr",
     "output_type": "stream",
     "text": [
      "/home/duc-vinh/anaconda2/lib/python2.7/site-packages/sklearn/cross_validation.py:44: DeprecationWarning: This module was deprecated in version 0.18 in favor of the model_selection module into which all the refactored classes and functions are moved. Also note that the interface of the new CV iterators are different from that of this module. This module will be removed in 0.20.\n",
      "  \"This module will be removed in 0.20.\", DeprecationWarning)\n",
      "/home/duc-vinh/anaconda2/lib/python2.7/site-packages/sklearn/grid_search.py:43: DeprecationWarning: This module was deprecated in version 0.18 in favor of the model_selection module into which all the refactored classes and functions are moved. This module will be removed in 0.20.\n",
      "  DeprecationWarning)\n"
     ]
    }
   ],
   "source": [
    "from sklearn.cross_validation import train_test_split\n",
    "X0_train,X0_test,y0_train,y0_test=train_test_split(X,y,test_size=0.2,random_state=42)\n",
    "\n",
    "import sklearn\n",
    "from sklearn.cross_validation import train_test_split, KFold\n",
    "from sklearn.linear_model import LinearRegression\n",
    "from sklearn.metrics import mean_squared_error\n",
    "from sklearn.pipeline import Pipeline\n",
    "from sklearn.preprocessing import PolynomialFeatures\n",
    "from sklearn import grid_search\n",
    "from sklearn.model_selection import GridSearchCV"
   ]
  },
  {
   "cell_type": "markdown",
   "metadata": {},
   "source": [
    "- ## A. Méthode Linéaire  <a name=\"linéaire\"></a>\n",
    "    - Approche la plus naïve"
   ]
  },
  {
   "cell_type": "code",
   "execution_count": 9,
   "metadata": {
    "collapsed": false
   },
   "outputs": [
    {
     "name": "stdout",
     "output_type": "stream",
     "text": [
      "CPU times: user 8 ms, sys: 20 ms, total: 28 ms\n",
      "Wall time: 9.19 ms\n"
     ]
    }
   ],
   "source": [
    "%%time\n",
    "#Apprentissage:\n",
    "lr = LinearRegression()\n",
    "lr.fit(X0_train, y0_train)\n",
    "\n",
    "#Prédiction:\n",
    "y_lr = lr.predict(X0_test)"
   ]
  },
  {
   "cell_type": "code",
   "execution_count": 10,
   "metadata": {
    "collapsed": false
   },
   "outputs": [
    {
     "name": "stdout",
     "output_type": "stream",
     "text": [
      "L'erreur type (RMSE) est de 7.09646358686\n",
      "La moyenne absolue de pourcentage d'erreur est de 85.5134055858 %\n"
     ]
    }
   ],
   "source": [
    "#Evaluation du modèle :\n",
    "print(\"L'erreur type (RMSE) est de %s\") %(RMSE(y0_test, y_lr))\n",
    "print(\"La moyenne absolue de pourcentage d'erreur est de %s %%\") %(mape_error(y0_test, y_lr))"
   ]
  },
  {
   "cell_type": "markdown",
   "metadata": {},
   "source": [
    "- ## A. Méthode Linéaire  <a name=\"linéaire\"></a>\n",
    "    - Approche polynomiale et cross validation"
   ]
  },
  {
   "cell_type": "code",
   "execution_count": 11,
   "metadata": {
    "collapsed": false
   },
   "outputs": [],
   "source": [
    "def k_fold_cross_val_poly(folds, degrees, X, y):\n",
    "    #fonction qui calcule les scores RMSE pour K-fold et d degré polynomial\n",
    "    n = len(X)\n",
    "    kf = KFold(n, n_folds=folds,random_state=42)\n",
    "    #creation du dico qui retient les scores RMSE\n",
    "    kf_dict = dict([(\"fold_%s\" % i,[]) for i in range(1, folds+1)])\n",
    "    fold = 0\n",
    "    for train_index, test_index in kf:\n",
    "        fold += 1\n",
    "        #print \"Fold: %s\" % fold\n",
    "        X_train, X_test = X.ix[train_index], X.ix[test_index]\n",
    "        y_train, y_test = y.ix[train_index], y.ix[test_index]\n",
    "        # Incrémente le dégré polynomial\n",
    "        for d in range(1, degrees+1):\n",
    "            #print \"Degree: %s\" % d\n",
    "            # Model & fit\n",
    "            polynomial_features = PolynomialFeatures(\n",
    "                degree=d, include_bias=False\n",
    "            )\n",
    "            linear_regression = LinearRegression()\n",
    "            model = Pipeline([\n",
    "                (\"polynomial_features\", polynomial_features),\n",
    "                (\"linear_regression\", linear_regression)\n",
    "            ])\n",
    "            model.fit(X_train, y_train)\n",
    "            # Calcul du RMSE\n",
    "            y_pred = model.predict(X_test)\n",
    "            test_rmse = RMSE(y_test, y_pred)\n",
    "            #print test_rmse\n",
    "            kf_dict[\"fold_%s\" % fold].append(test_rmse) #stockage dans le dict\n",
    "        # Transform en np.array pour le moyenner\n",
    "        kf_dict[\"fold_%s\" % fold] = np.array(kf_dict[\"fold_%s\" % fold])\n",
    "    #Dans le dico\n",
    "    kf_dict[\"avg\"] = np.zeros(degrees)\n",
    "    for i in range(1, folds+1):\n",
    "        kf_dict[\"avg\"] += kf_dict[\"fold_%s\" % i]\n",
    "    kf_dict[\"avg\"] /= float(folds)\n",
    "    return kf_dict\n",
    "\n",
    "def plot_test_error_curves_kf(kf_dict, folds, degrees):\n",
    "    #fonction qui permet de visualiser les résultats calculés par la fonction ci-dessus\n",
    "    fig, ax = plt.subplots(figsize=(10, 10))\n",
    "    ds = range(1, degrees+1)\n",
    "    for i in range(1, folds+1):\n",
    "        ax.plot(ds, kf_dict[\"fold_%s\" % i], lw=2, label='Test RMSE - Fold %s' % i)\n",
    "    ax.plot(ds, kf_dict[\"avg\"], linestyle='--', color=\"black\", lw=3, label='Avg Test RMSE')\n",
    "    ax.legend(loc=0)\n",
    "    ax.set_xlabel('Degree of Polynomial Fit')\n",
    "    ax.set_ylabel('RMSE')\n",
    "    #ax.set_ylim([0.0, 4.0])\n",
    "    fig.set_facecolor('white')\n",
    "    plt.show()"
   ]
  },
  {
   "cell_type": "code",
   "execution_count": 12,
   "metadata": {
    "collapsed": false
   },
   "outputs": [
    {
     "data": {
      "image/png": "[encoded data removed]",
      "text/plain": [
       "<matplotlib.figure.Figure at 0x7f5003909550>"
      ]
     },
     "metadata": {},
     "output_type": "display_data"
    }
   ],
   "source": [
    "# Plot la courbe d'erreur k-fold CV set\n",
    "folds = 8\n",
    "degrees = 3\n",
    "kf_dict = k_fold_cross_val_poly(folds, degrees, X, y)\n",
    "plot_test_error_curves_kf(kf_dict, folds, degrees)"
   ]
  },
  {
   "cell_type": "code",
   "execution_count": 13,
   "metadata": {
    "collapsed": false,
    "scrolled": true
   },
   "outputs": [
    {
     "name": "stdout",
     "output_type": "stream",
     "text": [
      "Le régresseur polynomial atteint une valeur moyenne minimale RMSE : 1.37977908752 pour un degré 2\n"
     ]
    }
   ],
   "source": [
    "print('Le régresseur polynomial atteint une valeur moyenne minimale RMSE : %s pour un degré %s'\n",
    "      %(kf_dict['avg'].min(),kf_dict['avg'].argmin()+1))"
   ]
  },
  {
   "cell_type": "markdown",
   "metadata": {},
   "source": [
    "- > *** Intreprétation: on décide de choisir un degré polynomial de 2. ***"
   ]
  },
  {
   "cell_type": "code",
   "execution_count": 14,
   "metadata": {
    "collapsed": false
   },
   "outputs": [],
   "source": [
    "# Sélection du model:\n",
    "\n",
    "lr = LinearRegression() #init\n",
    "polynomial_features = PolynomialFeatures(degree=2, include_bias=False)\n",
    "# Création du pipeline\n",
    "pipe = Pipeline([(\"polynomial_features\", polynomial_features),\n",
    "        (\"linear_regression\", lr)])\n",
    "grid = dict(linear_regression__normalize=[False,True]) #espace de paramètre de la régression\n",
    "                                                        # choix sur la normalisation\n",
    "model = GridSearchCV(pipe,param_grid=grid,cv=8)\n",
    "model.fit(X0_train, y0_train)\n",
    "#predict\n",
    "y_lr = model.predict(X0_test)"
   ]
  },
  {
   "cell_type": "code",
   "execution_count": 15,
   "metadata": {
    "collapsed": false
   },
   "outputs": [
    {
     "name": "stdout",
     "output_type": "stream",
     "text": [
      "L'erreur type (RMSE) est de 1.41974719471\n",
      "La moyenne absolue de pourcentage d'erreur est de 13.7868232122 %\n",
      "Meilleur model utilisant {'linear_regression__normalize': False}.\n"
     ]
    }
   ],
   "source": [
    "#Evaluation du modèle :\n",
    "print(\"L'erreur type (RMSE) est de %s\") %(RMSE(y0_test, y_lr))\n",
    "print(\"La moyenne absolue de pourcentage d'erreur est de %s %%\") %(mape_error(y0_test, y_lr))\n",
    "print(\"Meilleur model utilisant %s.\" % ( model.best_params_))"
   ]
  },
  {
   "cell_type": "markdown",
   "metadata": {
    "collapsed": true
   },
   "source": [
    "***Nous obtenons un pourcentage d'erreur d'environ 14 % et une RMSE de 1.41 légèrement sous performé (vis à vis de 1.39 un peu plus haut), car dans cette dernière mesure j'ai décidé de restreindre l'apprentissage sur X0_train et tester sur X0_test. C'est correct, mais nous ne pouvons pas pour autant nous en contenter, car nous pouvons faire mieux. C'est ce que nous allons voir dans la suite de ce Notebook.***"
   ]
  },
  {
   "cell_type": "markdown",
   "metadata": {},
   "source": [
    "- ## B. Méthode par plus proche voisin"
   ]
  },
  {
   "cell_type": "code",
   "execution_count": 16,
   "metadata": {
    "collapsed": false
   },
   "outputs": [
    {
     "name": "stdout",
     "output_type": "stream",
     "text": [
      "L'erreur type (RMSE) est de 19.8156530185\n",
      "La moyenne absolue de pourcentage d'erreur est de 324.051607628 %\n",
      "Meilleur model utilisant {'n_neighbors': 100, 'leaf_size': 10}.\n"
     ]
    }
   ],
   "source": [
    "from sklearn.neighbors import KNeighborsRegressor\n",
    "knn=KNeighborsRegressor()\n",
    "\n",
    "n_neighbors=[2,3,5,7,12,15,20,30,40,50,60,100]\n",
    "leaf_size=[10,20,30,40,50]\n",
    "param_grid = dict(n_neighbors=n_neighbors, leaf_size=leaf_size)\n",
    "\n",
    "model = GridSearchCV(knn, param_grid, n_jobs=-1, cv=10,scoring='neg_mean_squared_error') #neg_mean_squared_error pour\n",
    "                                                                                        #sklearn > 0.18\n",
    "model.fit(X0_train, y0_train)\n",
    "\n",
    "#Prédiction:\n",
    "y_knn = model.predict(X0_test)\n",
    "print(\"L'erreur type (RMSE) est de %s\") %(RMSE(y0_test, y_knn))\n",
    "print(\"La moyenne absolue de pourcentage d'erreur est de %s %%\") %(mape_error(y0_test, y_knn))\n",
    "print(\"Meilleur model utilisant %s.\" % ( model.best_params_))"
   ]
  },
  {
   "cell_type": "markdown",
   "metadata": {},
   "source": [
    "- > ***Interprétations : cette méthode est à ignorer...***"
   ]
  },
  {
   "cell_type": "markdown",
   "metadata": {},
   "source": [
    "- ## C. Méthodes non-linéaires : méthodes ensemblistes  <a name=\"ensemblistes\"></a>\n",
    "\n",
    "***Ici, nous allons faire usage de méthodes non-linéaires d'apprentissage automatique, et nous verrons quelle est la meilleure méthode en termes de performances (notamment en termes de taux d'erreur et de vitesse d'exécution).***"
   ]
  },
  {
   "cell_type": "code",
   "execution_count": 17,
   "metadata": {
    "collapsed": false
   },
   "outputs": [],
   "source": [
    "from sklearn.ensemble import RandomForestRegressor, RandomForestRegressor, GradientBoostingRegressor \n",
    "from sklearn.cross_validation import KFold\n",
    "from sklearn.externals import joblib\n",
    "from xgboost.sklearn import XGBRegressor\n",
    "from sklearn.metrics import mean_squared_error\n",
    "import xgboost as xgb"
   ]
  },
  {
   "cell_type": "markdown",
   "metadata": {},
   "source": [
    "***Commençons par tester la méthode de régression des fôrets aléatoires.***  <a name=\"RF\"></a>"
   ]
  },
  {
   "cell_type": "code",
   "execution_count": 18,
   "metadata": {
    "collapsed": false
   },
   "outputs": [
    {
     "name": "stdout",
     "output_type": "stream",
     "text": [
      "L'erreur type (RMSE) est de 3.7329847872\n",
      "La moyenne absolue de pourcentage d'erreur est de 65.0436968742 %\n",
      "CPU times: user 1.62 s, sys: 100 ms, total: 1.72 s\n",
      "Wall time: 1.06 s\n"
     ]
    }
   ],
   "source": [
    "%%time\n",
    "from sklearn.ensemble import RandomForestRegressor\n",
    "rf = RandomForestRegressor(n_estimators=300, max_depth=7, n_jobs=-1, max_features=None,criterion='mse',\n",
    "                               min_samples_split=5,random_state=42)\n",
    "rf.fit(X0_train, y0_train)\n",
    "y_rf = rf.predict(X0_test)\n",
    "print(\"L'erreur type (RMSE) est de %s\") %(RMSE(y0_test, y_rf))\n",
    "print(\"La moyenne absolue de pourcentage d'erreur est de %s %%\") %(mape_error(y0_test, y_rf))"
   ]
  },
  {
   "cell_type": "markdown",
   "metadata": {},
   "source": [
    "- > ***Interprétations : résultats vraiment décevants, on va chercher à tuner un peu le model.***"
   ]
  },
  {
   "cell_type": "markdown",
   "metadata": {},
   "source": [
    "- **GridSearch et Cross Validation**"
   ]
  },
  {
   "cell_type": "code",
   "execution_count": 19,
   "metadata": {
    "collapsed": false,
    "scrolled": true
   },
   "outputs": [
    {
     "name": "stdout",
     "output_type": "stream",
     "text": [
      "L'erreur type (RMSE) est de 3.3937268745\n",
      "La moyenne absolue de pourcentage d'erreur est de 52.9839799078 %\n",
      "CPU times: user 8.18 s, sys: 208 ms, total: 8.39 s\n",
      "Wall time: 3min 59s\n"
     ]
    }
   ],
   "source": [
    "%%time\n",
    "rf = RandomForestRegressor(criterion='mse', max_features=None,random_state=42)\n",
    "n_estimators = [50, 100, 150, 200,300,400]\n",
    "max_depth = [2, 4, 6, 8,10]\n",
    "min_samples_split=[2,4,6,8]\n",
    "param_grid = dict(max_depth=max_depth, n_estimators=n_estimators, min_samples_split=min_samples_split)\n",
    "model = GridSearchCV(rf, param_grid, n_jobs=-1, cv=10,scoring='neg_mean_squared_error') #neg_mean_squared_error pour\n",
    "                                                                                        #sklearn > 0.18\n",
    "model.fit(X0_train, y0_train)\n",
    "y_rf = model.predict(X0_test)\n",
    "print(\"L'erreur type (RMSE) est de %s\") %(RMSE(y0_test, y_rf))\n",
    "print(\"La moyenne absolue de pourcentage d'erreur est de %s %%\") %(mape_error(y0_test, y_rf))"
   ]
  },
  {
   "cell_type": "code",
   "execution_count": 20,
   "metadata": {
    "collapsed": false
   },
   "outputs": [
    {
     "name": "stdout",
     "output_type": "stream",
     "text": [
      "Meilleur model utilisant {'min_samples_split': 2, 'n_estimators': 300, 'max_depth': 10}.\n"
     ]
    }
   ],
   "source": [
    "print(\"Meilleur model utilisant %s.\" % ( model.best_params_))"
   ]
  },
  {
   "cell_type": "markdown",
   "metadata": {},
   "source": [
    "- > ***Nous obtenons une MAPE d'environ 53 % et un RMSE de 3.4. C'est légèrement mieux, mais encore une fois cela reste horrible.***"
   ]
  },
  {
   "cell_type": "markdown",
   "metadata": {},
   "source": [
    "***Cette fois, testons toujours la méthode de régression extra-trees, mais cette fois, avec un nombre d'estimateurs plus important (porté à 300), et une profondeur maximale bien plus réduite (profondeur maximale de 7).***"
   ]
  },
  {
   "cell_type": "code",
   "execution_count": 21,
   "metadata": {
    "collapsed": false
   },
   "outputs": [
    {
     "name": "stdout",
     "output_type": "stream",
     "text": [
      "L'erreur type (RMSE) est de 3.74744918499\n",
      "La moyenne absolue de pourcentage d'erreur est de 52.6371290394 %\n",
      "CPU times: user 1.13 s, sys: 96 ms, total: 1.23 s\n",
      "Wall time: 1.08 s\n"
     ]
    }
   ],
   "source": [
    "%%time\n",
    "from sklearn.ensemble import ExtraTreesRegressor\n",
    "\n",
    "et = ExtraTreesRegressor(n_estimators=300, criterion='mse',max_depth=7,n_jobs=-1,\n",
    "                         min_samples_split=5,max_features=None)\n",
    "et.fit(X0_train, y0_train)\n",
    "y_et = et.predict(X0_test)\n",
    "print(\"L'erreur type (RMSE) est de %s\") %(RMSE(y0_test, y_et))\n",
    "print(\"La moyenne absolue de pourcentage d'erreur est de %s %%\") %(mape_error(y0_test, y_et))"
   ]
  },
  {
   "cell_type": "markdown",
   "metadata": {},
   "source": [
    "- **GridSearch et Cross Validation**"
   ]
  },
  {
   "cell_type": "code",
   "execution_count": 22,
   "metadata": {
    "collapsed": false
   },
   "outputs": [
    {
     "name": "stdout",
     "output_type": "stream",
     "text": [
      "L'erreur type (RMSE) est de 3.03411406132\n",
      "La moyenne absolue de pourcentage d'erreur est de 38.1781414818 %\n",
      "CPU times: user 5.87 s, sys: 172 ms, total: 6.04 s\n",
      "Wall time: 2min 31s\n"
     ]
    }
   ],
   "source": [
    "%%time\n",
    "et = ExtraTreesRegressor(criterion='mse',max_features=None)\n",
    "n_estimators = [100, 150, 200,300,400]\n",
    "max_depth = [4, 6, 8,10]\n",
    "min_samples_split=[2,4,6,8]\n",
    "param_grid = dict(max_depth=max_depth, n_estimators=n_estimators, min_samples_split=min_samples_split)\n",
    "model = GridSearchCV(et, param_grid, n_jobs=-1, cv=10,scoring='neg_mean_squared_error')\n",
    "model.fit(X0_train, y0_train)\n",
    "y_et = model.predict(X0_test)\n",
    "print(\"L'erreur type (RMSE) est de %s\") %(RMSE(y0_test, y_et))\n",
    "print(\"La moyenne absolue de pourcentage d'erreur est de %s %%\") %(mape_error(y0_test, y_et))"
   ]
  },
  {
   "cell_type": "code",
   "execution_count": 23,
   "metadata": {
    "collapsed": false
   },
   "outputs": [
    {
     "name": "stdout",
     "output_type": "stream",
     "text": [
      "Meilleur model utilisant {'min_samples_split': 2, 'n_estimators': 400, 'max_depth': 10}.\n"
     ]
    }
   ],
   "source": [
    "print(\"Meilleur model utilisant %s.\" % ( model.best_params_))"
   ]
  },
  {
   "cell_type": "markdown",
   "metadata": {},
   "source": [
    "- > ***Nous obtenons une MAPE d'environ 40 %. L'erreur est meilleure (entendre \"plus faible\") lorsque la profondeur est importante, mais que le nombre d'estimateurs n'est pas colossal, néanmoins une grande profondeur tend à overfitter.***"
   ]
  },
  {
   "cell_type": "raw",
   "metadata": {
    "collapsed": false
   },
   "source": [
    "%%time\n",
    "#Prends énormément de temps à calculer\n",
    "from sklearn.tree import DecisionTreeRegressor\n",
    "from sklearn.ensemble import AdaBoostRegressor\n",
    "rf = AdaBoostRegressor(base_estimator=DecisionTreeRegressor(max_depth=7),n_estimators=300, learning_rate=0.1,\n",
    "                       loss='linear')\n",
    "rf.fit(X0_train, y0_train)\n",
    "y_rf = rf.predict(X0_test)\n",
    "print(mape_error(y0_test, y_rf))"
   ]
  },
  {
   "cell_type": "markdown",
   "metadata": {},
   "source": [
    "***Pour le XG Boost: ***<a name=\"XGB\"></a>"
   ]
  },
  {
   "cell_type": "code",
   "execution_count": 24,
   "metadata": {
    "collapsed": false
   },
   "outputs": [
    {
     "name": "stdout",
     "output_type": "stream",
     "text": [
      "L'erreur type (RMSE) est de 3.25508904849\n",
      "La moyenne absolue de pourcentage d'erreur est de 26.7343848353 %\n",
      "CPU times: user 692 ms, sys: 12 ms, total: 704 ms\n",
      "Wall time: 99.9 ms\n"
     ]
    }
   ],
   "source": [
    "%%time\n",
    "xg = xgb.XGBRegressor(max_depth=3, n_estimators=300, learning_rate=0.05).fit(X0_train, y0_train)\n",
    "y_xgb = xg.predict(X0_test)\n",
    "print(\"L'erreur type (RMSE) est de %s\") %(RMSE(y0_test, y_xgb))\n",
    "print(\"La moyenne absolue de pourcentage d'erreur est de %s %%\") %(mape_error(y0_test, y_xgb))"
   ]
  },
  {
   "cell_type": "markdown",
   "metadata": {},
   "source": [
    "- > ***Nous obtenons un pourcentage d'erreur d'environ 34 % et une MSE de 2.8. C'est un progrès net. Le modèle XGBoost semble une piste à creuser.***"
   ]
  },
  {
   "cell_type": "code",
   "execution_count": 25,
   "metadata": {
    "collapsed": false
   },
   "outputs": [
    {
     "name": "stdout",
     "output_type": "stream",
     "text": [
      "L'erreur type (RMSE) est de 2.60610232787\n",
      "La moyenne absolue de pourcentage d'erreur est de 31.5348555556 %\n",
      "CPU times: user 3min 49s, sys: 824 ms, total: 3min 50s\n",
      "Wall time: 31.4 s\n"
     ]
    }
   ],
   "source": [
    "%%time\n",
    "xg = xgb.XGBRegressor(seed=42,nthread=-1)\n",
    "n_estimators = [100, 150, 200,300,400]\n",
    "max_depth = [3,4, 6, 8,10]\n",
    "param_grid = dict(max_depth=max_depth, n_estimators=n_estimators)\n",
    "model = GridSearchCV(xg, param_grid, cv=10,scoring='neg_mean_squared_error') # n_jobs=-1,\n",
    "model.fit(X0_train, y0_train)\n",
    "y_xgb = model.predict(X0_test)\n",
    "print(\"L'erreur type (RMSE) est de %s\") %(RMSE(y0_test, y_xgb))\n",
    "print(\"La moyenne absolue de pourcentage d'erreur est de %s %%\") %(mape_error(y0_test, y_xgb))"
   ]
  },
  {
   "cell_type": "code",
   "execution_count": 26,
   "metadata": {
    "collapsed": false
   },
   "outputs": [
    {
     "data": {
      "text/plain": [
       "<matplotlib.text.Text at 0x7f50407d1c90>"
      ]
     },
     "execution_count": 26,
     "metadata": {},
     "output_type": "execute_result"
    },
    {
     "data": {
      "image/png": "[encoded data removed]",
      "text/plain": [
       "<matplotlib.figure.Figure at 0x7f4ffdeba610>"
      ]
     },
     "metadata": {},
     "output_type": "display_data"
    }
   ],
   "source": [
    "means = model.cv_results_['mean_test_score']\n",
    "stds = model.cv_results_['std_test_score']\n",
    "params = model.cv_results_['params']\n",
    "#for mean, stdev, param in zip(means, stds, params):\n",
    "#    print(\"%f (%f) with: %r\" % (mean, stdev, param))\n",
    "# plot results\n",
    "plt.figure(figsize = (12,12))\n",
    "scores = np.array(means).reshape(len(max_depth), len(n_estimators))\n",
    "for i, value in enumerate(max_depth):\n",
    "    plt.plot(n_estimators, scores[i], label='depth: ' + str(value))\n",
    "plt.legend()\n",
    "plt.xlabel('n_estimators')\n",
    "plt.ylabel('neg_mean_squared_error')\n",
    "plt.title(\"Profondeur v.s. Nombre d'estimateurs\")"
   ]
  },
  {
   "cell_type": "code",
   "execution_count": 27,
   "metadata": {
    "collapsed": false
   },
   "outputs": [
    {
     "name": "stdout",
     "output_type": "stream",
     "text": [
      "L'erreur type (RMSE) est de 2.64332505414\n",
      "La moyenne absolue de pourcentage d'erreur est de 31.791561918 %\n",
      "CPU times: user 6min 54s, sys: 1.61 s, total: 6min 55s\n",
      "Wall time: 54 s\n"
     ]
    }
   ],
   "source": [
    "%%time\n",
    "xg = xgb.XGBRegressor(seed=42,nthread=-1)\n",
    "n_estimators = [100, 150, 200,300,400]\n",
    "max_depth = [3,4, 6, 8,10]\n",
    "learning_rate=[0.05,0.075]\n",
    "param_grid = dict(max_depth=max_depth, n_estimators=n_estimators,learning_rate=learning_rate)\n",
    "model = GridSearchCV(xg, param_grid, cv=10,scoring='neg_mean_squared_error') # n_jobs=-1,\n",
    "model.fit(X0_train, y0_train)\n",
    "y_xgb = model.predict(X0_test)\n",
    "print(\"L'erreur type (RMSE) est de %s\") %(RMSE(y0_test, y_xgb))\n",
    "print(\"La moyenne absolue de pourcentage d'erreur est de %s %%\") %(mape_error(y0_test, y_xgb))"
   ]
  },
  {
   "cell_type": "code",
   "execution_count": 28,
   "metadata": {
    "collapsed": false
   },
   "outputs": [
    {
     "name": "stdout",
     "output_type": "stream",
     "text": [
      "Meilleur model utilisant {'n_estimators': 400, 'learning_rate': 0.075, 'max_depth': 4}.\n"
     ]
    }
   ],
   "source": [
    "print(\"Meilleur model utilisant %s.\" % ( model.best_params_))"
   ]
  },
  {
   "cell_type": "markdown",
   "metadata": {},
   "source": [
    "- > ***Nous obtenons une MAPE d'environ 32 % mais un RMSE des plus faibles avec 2.64. C'est très légèrement moins bien que la régression linéaire que l'on a sélectionné plus haut (degré polynomial 2, cv10 et sans normalisation).***"
   ]
  },
  {
   "cell_type": "markdown",
   "metadata": {},
   "source": [
    "**Test du XGBoost avec des features polynomiales :**\n",
    "\n",
    "L'intuition voudrait que le fait de dériver des features polynomiales à partir de la donnée brute soit innéficace pour les méthodes de types ensemblistes."
   ]
  },
  {
   "cell_type": "code",
   "execution_count": 29,
   "metadata": {
    "collapsed": false
   },
   "outputs": [
    {
     "name": "stdout",
     "output_type": "stream",
     "text": [
      "L'erreur type (RMSE) est de 2.69024945998\n",
      "La moyenne absolue de pourcentage d'erreur est de 23.4265950045 %\n",
      "Meilleur model utilisant {'n_estimators': 400, 'learning_rate': 0.05, 'max_depth': 4}.\n",
      "CPU times: user 38min 31s, sys: 2.21 s, total: 38min 34s\n",
      "Wall time: 4min 58s\n"
     ]
    }
   ],
   "source": [
    "%%time\n",
    "xg = xgb.XGBRegressor(seed=42,nthread=-1)\n",
    "\n",
    "#feature polynomial d'ordre 2\n",
    "polynomial_features = PolynomialFeatures(degree=2, include_bias=False)\n",
    "X0_train_ = polynomial_features.fit_transform(X0_train)\n",
    "X0_test_ = polynomial_features.fit_transform(X0_test)\n",
    "\n",
    "#param\n",
    "n_estimators = [100, 150, 200,300,400]\n",
    "max_depth = [3,4, 6, 8,10]\n",
    "learning_rate=[0.05,0.075]\n",
    "param_grid = dict(max_depth=max_depth, n_estimators=n_estimators,learning_rate=learning_rate)\n",
    "\n",
    "#GridsearchCV\n",
    "model = GridSearchCV(xg, param_grid, cv=10,scoring='neg_mean_squared_error') # n_jobs=-1,\n",
    "model.fit(X0_train_, y0_train)\n",
    "y_xgb = model.predict(X0_test_)\n",
    "\n",
    "print(\"L'erreur type (RMSE) est de %s\") %(RMSE(y0_test, y_xgb))\n",
    "print(\"La moyenne absolue de pourcentage d'erreur est de %s %%\") %(mape_error(y0_test, y_xgb))\n",
    "print(\"Meilleur model utilisant %s.\" % ( model.best_params_))"
   ]
  },
  {
   "cell_type": "markdown",
   "metadata": {},
   "source": [
    "- > *** Interprétation : notre intuition s'est révélée être correcte, dériver des features polynomiales n'apportent rien au modèle ensembliste.***"
   ]
  },
  {
   "cell_type": "markdown",
   "metadata": {},
   "source": [
    "# Visualisation de l'arbre de décision"
   ]
  },
  {
   "cell_type": "raw",
   "metadata": {
    "collapsed": false
   },
   "source": [
    "#To store a visual representation of the trees\n",
    "import graphviz\n",
    "\n",
    "xg = xgb.XGBRegressor(max_depth=4, n_estimators=400, learning_rate=0.05).fit(X0_train, y0_train)\n",
    "\n",
    "if not os.path.exists('graph/'):\n",
    "    os.makedirs('graph/')\n",
    "a=xgb.to_graphviz(xg, num_trees=2)\n",
    "#a.engine = 'circo'\n",
    "a.format = 'png'\n",
    "a.render('graph/graph.png', view=False)"
   ]
  },
  {
   "cell_type": "markdown",
   "metadata": {},
   "source": [
    "# III. Evaluation des modèles retenus  <a name=\"interprétation\"></a>"
   ]
  },
  {
   "cell_type": "markdown",
   "metadata": {},
   "source": [
    "** On étudie les deux modèles aux plus grande performances**"
   ]
  },
  {
   "cell_type": "markdown",
   "metadata": {},
   "source": [
    "- - ### Modèle Linéaire :"
   ]
  },
  {
   "cell_type": "code",
   "execution_count": null,
   "metadata": {
    "collapsed": true
   },
   "outputs": [],
   "source": [
    "#interprétations des coéfficients\n"
   ]
  },
  {
   "cell_type": "markdown",
   "metadata": {},
   "source": [
    "- - ### Modèle XGBoost :"
   ]
  },
  {
   "cell_type": "markdown",
   "metadata": {},
   "source": [
    "- ## Plot des features selon leur importance\n",
    "\n",
    "***Dans cette étape d'évaluation du modèle, nous allons représenter sous la forme d'un diagramme horizontal les variables qui contribuent le plus au modèle, à l'aide de la méthode XGBoost.***"
   ]
  },
  {
   "cell_type": "code",
   "execution_count": 30,
   "metadata": {
    "collapsed": false
   },
   "outputs": [
    {
     "name": "stdout",
     "output_type": "stream",
     "text": [
      "L'erreur type (RMSE) est de 3.47403425125\n",
      "La moyenne absolue de pourcentage d'erreur est de 21.892332683 %\n",
      "CPU times: user 1.13 s, sys: 0 ns, total: 1.13 s\n",
      "Wall time: 156 ms\n"
     ]
    }
   ],
   "source": [
    "%%time\n",
    "dtrain = xgb.DMatrix(X0_train,label=y0_train)\n",
    "dtest = xgb.DMatrix(X0_test)\n",
    "\n",
    "params = {'booster':'gbtree', 'eta':0.2, 'max_depth':4, 'subsample':0.8, 'n_estimators':400,\n",
    "                 'silent':1, 'objective':'reg:linear', \"seed\":42, 'nhtread':8,\n",
    "                 'eval_metric':'rmse','colsample_bytree':0.7}\n",
    "    \n",
    "xg = xgb.train(params, dtrain, 400)\n",
    "y_xg = xg.predict(dtest)\n",
    "print(\"L'erreur type (RMSE) est de %s\") %(RMSE(y0_test, y_xg))\n",
    "print(\"La moyenne absolue de pourcentage d'erreur est de %s %%\") %(mape_error(y0_test, y_xg))"
   ]
  },
  {
   "cell_type": "code",
   "execution_count": 31,
   "metadata": {
    "collapsed": false
   },
   "outputs": [
    {
     "data": {
      "text/plain": [
       "<matplotlib.axes._subplots.AxesSubplot at 0x7f4ffdf555d0>"
      ]
     },
     "execution_count": 31,
     "metadata": {},
     "output_type": "execute_result"
    },
    {
     "data": {
      "image/png": "[encoded data removed]",
      "text/plain": [
       "<matplotlib.figure.Figure at 0x7f4ffdec4c90>"
      ]
     },
     "metadata": {},
     "output_type": "display_data"
    }
   ],
   "source": [
    "importances = xg.get_score()\n",
    "importance_frame = pd.DataFrame({'Importance': list(importances.values()),'Feature': list(importances.keys())})\n",
    "importance_frame.sort_values(by = 'Importance', inplace = True)\n",
    "importance_frame[0:75].plot(kind = 'barh', x = 'Feature', figsize = (12,12), color = 'orange')"
   ]
  },
  {
   "cell_type": "markdown",
   "metadata": {},
   "source": [
    "- > ***L'importances des features pour le modèle XGBoost semblent être en adéquation avec le sens métier qu'elles apportent au calcul du bénifice net annuel. En effet, on peut interpréter :***\n",
    "    - Le kilométrage influe sur le risque / proba d'accidents\n",
    "    - Coût d'entretient est directement lié au bénéfice net annuel étant donné que plus la voiture est coûteuse à entretenir / réparer plus cela impactera le calcul de bénéfice (soit augmentation de la prime d'assurance, soit coût de l'assureur à réparer en cas d'accidents)\n",
    "    - etc..."
   ]
  },
  {
   "cell_type": "markdown",
   "metadata": {},
   "source": [
    "# IV. Soumission des résultats  <a name=\"submit\"></a>"
   ]
  },
  {
   "cell_type": "code",
   "execution_count": 32,
   "metadata": {
    "collapsed": false,
    "scrolled": true
   },
   "outputs": [],
   "source": [
    "path='model/Approche Naive/'"
   ]
  },
  {
   "cell_type": "code",
   "execution_count": 33,
   "metadata": {
    "collapsed": true
   },
   "outputs": [],
   "source": [
    "def write_to_file(X_prod,y_pred,name_file,path) :\n",
    "    if not os.path.exists(path):\n",
    "        os.makedirs(path)\n",
    "    X_prod['Benefice net annuel predit'] = y_pred\n",
    "    X_prod[['Benefice net annuel predit']].to_csv(path+name_file, index=True, sep='|')\n",
    "    print('Ecriture finie.')\n",
    "    return"
   ]
  },
  {
   "cell_type": "code",
   "execution_count": 34,
   "metadata": {
    "collapsed": false
   },
   "outputs": [
    {
     "name": "stdout",
     "output_type": "stream",
     "text": [
      "Meilleur model utilisant {'n_estimators': 400, 'learning_rate': 0.075, 'max_depth': 4}.\n",
      "Ecriture finie.\n",
      "CPU times: user 8min 47s, sys: 1.8 s, total: 8min 49s\n",
      "Wall time: 1min 10s\n"
     ]
    }
   ],
   "source": [
    "%%time\n",
    "#Application aux données de Test pour soumission\n",
    "xg = xgb.XGBRegressor(seed=42,nthread=-1)\n",
    "n_estimators = [100, 150, 200,300,400]\n",
    "max_depth = [3,4, 6, 8,10]\n",
    "learning_rate=[0.05,0.075]\n",
    "param_grid = dict(max_depth=max_depth, n_estimators=n_estimators,learning_rate=learning_rate)\n",
    "model = GridSearchCV(xg, param_grid, cv=10,scoring='neg_mean_squared_error') # n_jobs=-1,\n",
    "model.fit(X, y)\n",
    "y_xgb = model.predict(T)\n",
    "print(\"Meilleur model utilisant %s.\" % ( model.best_params_))\n",
    "\n",
    "#Ecriture\n",
    "write_to_file(T.copy(), y_xgb,'ma_prediction_XGB.csv',path)"
   ]
  },
  {
   "cell_type": "code",
   "execution_count": 35,
   "metadata": {
    "collapsed": false
   },
   "outputs": [
    {
     "name": "stdout",
     "output_type": "stream",
     "text": [
      "Ecriture finie.\n",
      "CPU times: user 1.79 s, sys: 4.55 s, total: 6.34 s\n",
      "Wall time: 815 ms\n"
     ]
    }
   ],
   "source": [
    "%%time\n",
    "lr = LinearRegression() #init\n",
    "polynomial_features = PolynomialFeatures(degree=2, include_bias=False)\n",
    "# Création du pipeline\n",
    "pipe = Pipeline([(\"polynomial_features\", polynomial_features),\n",
    "        (\"linear_regression\", lr)])\n",
    "grid = dict(linear_regression__normalize=[False,True]) #espace de paramètre de la régression\n",
    "                                                        # choix sur la normalisation\n",
    "model = GridSearchCV(pipe,param_grid=grid,cv=8)\n",
    "model.fit(X, y)\n",
    "#predict\n",
    "y_lr = model.predict(T)\n",
    "write_to_file(T.copy(), y_lr,'ma_prediction_RL.csv',path)"
   ]
  }
 ],
 "metadata": {
  "anaconda-cloud": {},
  "kernelspec": {
   "display_name": "Python 2",
   "language": "python",
   "name": "python2"
  },
  "language_info": {
   "codemirror_mode": {
    "name": "ipython",
    "version": 2
   },
   "file_extension": ".py",
   "mimetype": "text/x-python",
   "name": "python",
   "nbconvert_exporter": "python",
   "pygments_lexer": "ipython2",
   "version": "2.7.13"
  }
 },
 "nbformat": 4,
 "nbformat_minor": 0
}
